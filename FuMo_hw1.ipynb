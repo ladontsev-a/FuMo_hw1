{
 "cells": [
  {
   "cell_type": "markdown",
   "id": "a73260db",
   "metadata": {},
   "source": [
    "#### 1. В качестве экспрессива была выбрана лексема \"никогда\". Она является экспрессивом, поскольку \n",
    "- экспрессивное содержание отделено от дескриптивного: **никогда** в значении \"ни в какой момент на всём протяжении рассматриваемого отрезка времени\" и **никогда** как обещание, предостережение (ср. \"*Он никогда не работал*\" и \"*Никогда больше не пойду в этот ресторан!*\");\n",
    "- экспрессивное содержание ориентировано на говорящего, передает эмоции или опыт (например, \"*Никогда не ходи ночью в лес!*\");\n",
    "- эксрессивное содержание нельзя выразить дескриптивными конструкциями, не исказив смысл (например, предложения \"*Никогда не ходи ночью в лес!*\"(1), \"*Я запрещаю тебе ходить ночью в лес!*\"(2) и \"*Тебе не следует ходить ночью в лес*\"(3) имеют разные значения: в (1) доминирует экспрессивный компонент, (2) содержит экспрессивный компонент и свидетельствует об определенном типе отношений между собеседниками (слушающий зависим от говорящего, последний приказывает слушающему), (3) является советом, экспрессивность вовсе отсутствует);\n",
    "- непосредственность (immediacy) заключается в использовании экспрессива для усиления соджержания, а не для передачи информации (ср. \"*Никогда больше не пойду в этот ресторан!*\" и \"*Больше не пойду в этот ресторан!*\");\n",
    "- повторяемость экспрессива в речи усиливает эмоциональное содержание и не приводит к избыточности (например, \"*Никогда, слышишь, никогда больше не приводи его домой!*\")."
   ]
  },
  {
   "cell_type": "markdown",
   "id": "86caf831",
   "metadata": {},
   "source": [
    "Гипотеза: профиль данного экспрессива может иметь форму перевернутой J. \n",
    "- Примеры отрицательного контекста \"*Никогда, слышишь, никогда больше не приводи его домой!*\", \"*Никогда больше не пойду в этот ресторан!*\".\n",
    "- Примеры положительного контекста \"*Я никогда еще не был так счастлив!*\", \"*Никогда не видел ничего подобного, это просто сказка!*\""
   ]
  },
  {
   "cell_type": "markdown",
   "id": "10355726",
   "metadata": {},
   "source": [
    "В качестве датасета использовался корпус отзывов на книги с оценками, доступный здесь https://stepik.org/lesson/40757/step/1?unit=19422."
   ]
  },
  {
   "cell_type": "code",
   "execution_count": 128,
   "id": "01906656",
   "metadata": {},
   "outputs": [],
   "source": [
    "import pandas as pd\n",
    "import numpy as np\n",
    "import matplotlib.pyplot as plt\n",
    "from math import ceil\n",
    "import string"
   ]
  },
  {
   "cell_type": "markdown",
   "id": "45240739",
   "metadata": {},
   "source": [
    "Читаем файл с отзывами построчно, удаляем знаки препинания, приводим к нижнему регистру и преобразуем каждую строку в список слов."
   ]
  },
  {
   "cell_type": "code",
   "execution_count": 129,
   "id": "7690ac32",
   "metadata": {},
   "outputs": [],
   "source": [
    "with open('texts_train.txt', 'r', encoding='utf-8') as f:\n",
    "    texts = f.read().splitlines()\n",
    "texts = [text.translate(str.maketrans('', '', string.punctuation)) for text in texts]    \n",
    "texts = [text.lower().split() for text in texts]"
   ]
  },
  {
   "cell_type": "markdown",
   "id": "a7318f47",
   "metadata": {},
   "source": [
    "Читаем файл с оценками."
   ]
  },
  {
   "cell_type": "code",
   "execution_count": 130,
   "id": "435d9b7d",
   "metadata": {},
   "outputs": [],
   "source": [
    "with open('scores_train.txt', 'r') as f:\n",
    "    labels = f.read().splitlines()\n",
    "labels = [int(i) for i in labels]"
   ]
  },
  {
   "cell_type": "markdown",
   "id": "cb6dd1f2",
   "metadata": {},
   "source": [
    "Создаем датафрейм со всеми текстами и соответствующими им оценками."
   ]
  },
  {
   "cell_type": "code",
   "execution_count": 131,
   "id": "d3045c30",
   "metadata": {
    "scrolled": false
   },
   "outputs": [],
   "source": [
    "df = pd.DataFrame()\n",
    "df['texts'] = texts\n",
    "df['labels'] = labels"
   ]
  },
  {
   "cell_type": "markdown",
   "id": "94b80a2a",
   "metadata": {},
   "source": [
    "#### 2. Создаем датафрейм с текстами, содержащими экспрессив \"никогда\", и соответсвующими им оценками."
   ]
  },
  {
   "cell_type": "code",
   "execution_count": 132,
   "id": "c407f9be",
   "metadata": {},
   "outputs": [
    {
     "name": "stdout",
     "output_type": "stream",
     "text": [
      "10    75\n",
      "9     64\n",
      "8     59\n",
      "7     27\n",
      "6     21\n",
      "4     13\n",
      "2     11\n",
      "5     11\n",
      "3     10\n",
      "1      6\n",
      "Name: labels, dtype: int64\n"
     ]
    }
   ],
   "source": [
    "new_df = pd.DataFrame()\n",
    "new_df['texts'] = [text for text in texts if 'никогда' in text]\n",
    "new_df['labels'] = [(labels[texts.index(text)]) for text in new_df['texts']]\n",
    "print(new_df['labels'].value_counts())"
   ]
  },
  {
   "cell_type": "markdown",
   "id": "40b913c6",
   "metadata": {},
   "source": [
    "#### 3. Создаем профиль экспрессива."
   ]
  },
  {
   "cell_type": "code",
   "execution_count": 133,
   "id": "1aa1bde4",
   "metadata": {},
   "outputs": [
    {
     "name": "stdout",
     "output_type": "stream",
     "text": [
      "[-4.688285092698598, -4.919317135561468, -5.200704537681037, -5.346008025384052, -6.046297025733376, -5.462822417638, -5.52869395552213, -5.204379126559685, -5.016969358157838, -4.793915510579849]\n"
     ]
    }
   ],
   "source": [
    "log_odds = []\n",
    "for i in range(10):\n",
    "    count_xn_R = new_df.labels.value_counts().loc[i+1]\n",
    "    count_R = 0\n",
    "    for text in df[df['labels'] == i+1]['texts']:\n",
    "        count_R += len([x for x in text if len(x) == 9])\n",
    "    log_odd = np.log(count_xn_R / (count_R - count_xn_R))\n",
    "    log_odds.append(log_odd)\n",
    "print(log_odds)"
   ]
  },
  {
   "cell_type": "markdown",
   "id": "dbe5ee93",
   "metadata": {},
   "source": [
    "#### 4. Строим полиномиальную регрессию. Она наилучшим образом отражает характер распределения, поскольку оно напоминает параболу."
   ]
  },
  {
   "cell_type": "code",
   "execution_count": 134,
   "id": "daebe70e",
   "metadata": {},
   "outputs": [
    {
     "data": {
      "image/png": "[encoded data removed]",
      "text/plain": [
       "<Figure size 432x288 with 1 Axes>"
      ]
     },
     "metadata": {
      "needs_background": "light"
     },
     "output_type": "display_data"
    }
   ],
   "source": [
    "x = [i+1 for i in range(10)]\n",
    "y = log_odds\n",
    "\n",
    "mymodel = np.poly1d(np.polyfit(x, y, 2))\n",
    "myline = np.linspace(min(x), max(x), 50)\n",
    "plt.plot(myline, mymodel(myline))\n",
    "plt.scatter(x, y)\n",
    "\n",
    "plt.show()"
   ]
  },
  {
   "cell_type": "markdown",
   "id": "2b652b9e",
   "metadata": {},
   "source": [
    "#### 5. Вывод: гипотеза не подтвердилась, экспрессив \"никогда\" имеет U-образный профиль. Оказалось что в положительных контекстах \"никогда\" появляется почти так же часто, как в отрицательных. Проиллюстрируем распределение несколькими примерами."
   ]
  },
  {
   "cell_type": "markdown",
   "id": "84179537",
   "metadata": {},
   "source": [
    "Отзывы, содержащие \"никогда\", с оценкой 1:"
   ]
  },
  {
   "cell_type": "code",
   "execution_count": 135,
   "id": "0c1e6659",
   "metadata": {},
   "outputs": [
    {
     "name": "stdout",
     "output_type": "stream",
     "text": [
      "Пример 1\n",
      "['детектив очень слабенький перечитывать такой никогда не будешь']\n",
      "Пример 2\n",
      "['хотя книга и высмеивает образ жизни европейцев и американцев но сравнивать с казахским народом на долю которого очень многео выпало этим выскочкам никогда не понять всю глубину и древность азиатских традиций не понять этой мудрости да высмеивать надо но не сравнивая с кемто улыбка улыбкой но русских там не было только потому что это вызвало бы жесткую критику а казахстан по политическим соображенеим вполне подоходит']\n"
     ]
    }
   ],
   "source": [
    "examples_1 = []\n",
    "for text in new_df[new_df['labels'] == 1]['texts']:\n",
    "    examples.append([' '.join(text)])\n",
    "print('Пример 1', examples[2], \n",
    "      'Пример 2', examples[3], \n",
    "      sep = '\\n')"
   ]
  },
  {
   "cell_type": "markdown",
   "id": "3cd3ad28",
   "metadata": {},
   "source": [
    "Отзывы, содержащие \"никогда\", с оценкой 10:"
   ]
  },
  {
   "cell_type": "code",
   "execution_count": 136,
   "id": "513be54b",
   "metadata": {},
   "outputs": [
    {
     "name": "stdout",
     "output_type": "stream",
     "text": [
      "Пример 1\n",
      "['моя настольная книганичего более интереснее я никогда в жизни не читалабольшой поклон автору за это замечательное творениене советую читатьабсолютно на любителяс нестандартным мышлением']\n",
      "Пример 2\n",
      "['никогда не надоест можно начать с любой страницы все актуально сатира на высшем уровне герои описаны так что их видишь авторы художники с большой буквы']\n"
     ]
    }
   ],
   "source": [
    "examples_10 = []\n",
    "for text in new_df[new_df['labels'] == 10]['texts']:\n",
    "    examples_10.append([' '.join(text)])\n",
    "print('Пример 1', examples_10[7], \n",
    "      'Пример 2', examples_10[8], \n",
    "      sep = '\\n')"
   ]
  },
  {
   "cell_type": "markdown",
   "id": "ffbc9c1a",
   "metadata": {},
   "source": [
    "Отзывы, содержащие \"никогда\", с оценкой 5:"
   ]
  },
  {
   "cell_type": "markdown",
   "id": "a3c9ec07",
   "metadata": {},
   "source": [
    "P.S. Необычное наблюдение: нейтральные отзывы с \"никогда\" наиболее объемны по сравнению с полярными отзывами (положительными или отрицательными). Возможно, дело в том, что авторы нейтральных рецензий проводят наиболее обстоятельный анализ, приводят аргументы \"за\" и \"против\", что сказывается на объеме текста."
   ]
  },
  {
   "cell_type": "code",
   "execution_count": 137,
   "id": "58f1856c",
   "metadata": {},
   "outputs": [
    {
     "name": "stdout",
     "output_type": "stream",
     "text": [
      "Пример 7\n",
      "['я была в японии и часть эмоций испытанных главным героем мне понятна это действительно страна маленьких людей в смысле роста и под душем не постоять в полный рост и в лифте ты выше всех и культура настолько другая что не понять скучно именно от того что разные менталитеты актера озвучивают по другому с другой интонацией и он сам уже не понимает свою игру это о месте где развивались событияф такие фильмы должны быть история о двух одиноких людях в огромной толпе они находят друг друга живут настоящим понимая что будущего у них нет это счастливые людии несчастные одновременно в чем основные трудности перевода два человека муж и жена говорят вроде на одном языке а друг друга не понимают что герой била в разговоре со своей женой что героиня скарлетт с мужем два человека которые должны быть друг для друга самыми родными общаются как два иностранца друзья близкие тоже не всегда готовы понять тебя помните когда девушка позвонила подруге после посещения храма и сказала я ничего не почувствовала она хотела поделиться ощущениями но осталась неуслышана есть в психологии такая теория курпатов назвал ее иллюзия взаимопонимания другие психологи иначе но смысл в том что ни один человек никогда до конца не поймет другого это иллюзия но вся беда в том что порой люди верят что они понимают другого что они понимают близкого когда гдето на подсознательном уровне у нас выплывает «чтото в моей жизни не так» мы просто грамотно забиваем в себе проблеск истины и живем в своей иллюзии дальше а герои этого фильма сошлись прежде всего именно в том что они осознали их никто не понимает и даже не пытаются мужчина и девушка встретились и попытались понять друг друга для них было важно не поцелуи и секс заметили у них было несколько возможностей переспать но они ими так и не воспользовались для них важнее было просто поговорить расслабиться подурачится как дети полежать рядом посмотреть вместе кино и тут оказалось что душевный контакт стал настолько сильным что расставание оказалось очень мучительным и трудным будут ли они вместе нам не известно но в любом случае они хотя бы попытались быть услышанными друг другом и в этом их счастье']\n",
      "Пример 8\n",
      "['на отечественные экраны вышла монтана плод совместного творчества режиссера александра атанесяна чей фильм сволочи в прошлом году наделал много шума сценариста эдуарда тополя музыканта аркадия укупника и спортсмена олега тактарова известного ролями мордоворотов в голливудских боевиках в 1983 году в подмосковном детском доме два друга колян и витек смотрели документальный фильм о штате монтана и мечтали как сбегут в америку женятся на индианках и заживут всласть в 1998м приятели ограбили банк причем изворотливому виктору игорь миркурбанов удалось скрыться от милиции а простоватого николая олег тактаров отправили на нары в 2007м у ворот тюрьмы колю встретили два телохранителя и со всевозможными почестями препроводили к бывшему напарнику который за это время стал владельцем собственной компании и уважаемым человеком за ужином у бассейна виктор пообещал другу детства долю в бизнесе но для начала попросил об услуге слетать по делам в сша коля естественно согласился в заветной америке его ждут предательство любовь и никакого хеппиэнда александр атанесян определяет жанр своего фильма как шансон все верно законы блатного фольклора режиссер блюдет строго герой тактарова перенес трудное детство наделал ошибок в молодости но повзрослев какимто чудом сумел сохранить тонкую душу и чистоту помыслов он все еще мечтает о горах монтаны не хочет поверить в подлость друга получив в подарок библию довольно быстро приходит к мыслям о боге но главное колян всем сердцем стремится к любви даже языковые барьеры его не смущают героиню скарлетт макалистер не понимающую ни слова из того что говорит ее русский приятель он покоряет отвагой щедростью и надежностью но если герой по словам режиссера преступник с глазами ребенка то окружают его самые неприятные типы начиная от бывшего кореша виктора и заканчивая заокеанским недругом по фамилии блум его сыграл сам атанесян шампанское в их домах льется рекой в бассейнах плавают обнаженные девицы а в свободное время бандиты режутся в домино со своими недалекими безжалостными подельниками о своих мечтах они давно позабыли что такое любовь никогда и не знали самые сильные эмоции в них вызывает песня утоли мои печали натали столкновение с подобными персонажами для вставшего на путь исправления главного героя по законам жанра ничем хорошим закончиться не может трагедия обеспечена и зрителю только остается качать головой да приговаривать хрестоматийное не мы такие жизнь такая а еще прощай америка о где я не буду никогда но вот ведь незадача вдоль и поперек исколесить соединенные штаты и разочароваться в американской мечте отечественные герои успели еще в середине 1990х и тему блатного романтизма в начале 2000х окончательно закрыли бригада и бумер так что атанесян со своей монтаной опоздал лет на десять но его тоже можно понять олег тактаров явно вложивший в коляна душу в середине 1990х только учился произносить монологи и держать паузу а еще колотил соперников не на съемочной площадке на спортивной арене и не понарошку а по физиономии']\n"
     ]
    }
   ],
   "source": [
    "examples_5 = []\n",
    "for text in new_df[new_df['labels'] == 5]['texts']:\n",
    "    examples_5.append([' '.join(text)])\n",
    "print('Пример 7', examples_5[9], \n",
    "      'Пример 8', examples_5[10], \n",
    "      sep = '\\n')"
   ]
  }
 ],
 "metadata": {
  "kernelspec": {
   "display_name": "Python 3 (ipykernel)",
   "language": "python",
   "name": "python3"
  },
  "language_info": {
   "codemirror_mode": {
    "name": "ipython",
    "version": 3
   },
   "file_extension": ".py",
   "mimetype": "text/x-python",
   "name": "python",
   "nbconvert_exporter": "python",
   "pygments_lexer": "ipython3",
   "version": "3.9.3"
  }
 },
 "nbformat": 4,
 "nbformat_minor": 5
}
